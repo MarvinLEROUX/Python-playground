{
 "cells": [
  {
   "cell_type": "markdown",
   "metadata": {},
   "source": [
    "# 3. Tri des listes\n"
   ]
  },
  {
   "cell_type": "code",
   "execution_count": null,
   "metadata": {},
   "outputs": [],
   "source": [
    "ma_liste = [5, 4, 8, 5, 8, 10, 1, 3, 6, 6, 2, 3, 9]\n",
    "print(len(ma_liste), ma_liste)"
   ]
  },
  {
   "cell_type": "markdown",
   "metadata": {},
   "source": [
    "### Méthode de classe / native ```list.sort```"
   ]
  },
  {
   "cell_type": "code",
   "execution_count": null,
   "metadata": {},
   "outputs": [],
   "source": [
    "help(list.sort)"
   ]
  },
  {
   "cell_type": "code",
   "execution_count": null,
   "metadata": {},
   "outputs": [],
   "source": [
    "ma_liste.sort()\n",
    "print(ma_liste)"
   ]
  },
  {
   "cell_type": "code",
   "execution_count": null,
   "metadata": {},
   "outputs": [],
   "source": [
    "ma_liste.sort(reverse=True)\n",
    "print(ma_liste)"
   ]
  },
  {
   "cell_type": "code",
   "execution_count": null,
   "metadata": {},
   "outputs": [],
   "source": [
    "ma_liste"
   ]
  },
  {
   "cell_type": "code",
   "execution_count": null,
   "metadata": {},
   "outputs": [],
   "source": [
    "ma_liste.sort()\n",
    "ma_liste"
   ]
  },
  {
   "cell_type": "markdown",
   "metadata": {},
   "source": [
    "### Méthode ```sorted```"
   ]
  },
  {
   "cell_type": "code",
   "execution_count": null,
   "metadata": {},
   "outputs": [],
   "source": [
    "help(sorted)"
   ]
  },
  {
   "cell_type": "code",
   "execution_count": null,
   "metadata": {},
   "outputs": [],
   "source": [
    "ma_liste = [5, 4, 8, 5, 8, 10, 1, 3, 6, 6, 2, 3, 9]"
   ]
  },
  {
   "cell_type": "code",
   "execution_count": null,
   "metadata": {},
   "outputs": [],
   "source": [
    "# la fonction `sorted` retourne une nouvelle liste, triée\n",
    "\n",
    "ma_liste = [5, 4, 8, 5, 8, 10, 1, 3, 6, 6, 2, 3, 9]\n",
    "sorted(ma_liste)"
   ]
  },
  {
   "cell_type": "code",
   "execution_count": null,
   "metadata": {},
   "outputs": [],
   "source": [
    "sorted(ma_liste, reverse=True)"
   ]
  },
  {
   "cell_type": "markdown",
   "metadata": {},
   "source": [
    "## Exercices"
   ]
  },
  {
   "cell_type": "code",
   "execution_count": null,
   "metadata": {},
   "outputs": [],
   "source": [
    "ma_liste = [5, 4, 8, 5, 8, 10, 1, 3, 6, 6, 2, 3, 9]"
   ]
  },
  {
   "cell_type": "code",
   "execution_count": null,
   "metadata": {},
   "outputs": [],
   "source": []
  },
  {
   "cell_type": "code",
   "execution_count": null,
   "metadata": {},
   "outputs": [],
   "source": [
    "# FYI: Implementation demo flag\n",
    "def calculer_somme(L, demo = False):\n",
    "    somme = 0\n",
    "    for i in range(len(L)):\n",
    "        somme += L[i]\n",
    "        if demo:\n",
    "            print(L[i], somme)\n",
    "    return somme"
   ]
  },
  {
   "cell_type": "code",
   "execution_count": null,
   "metadata": {},
   "outputs": [],
   "source": [
    "ma_liste = [5, 4, 8, 5, 8, 10, 1, 3, 6, 6, 2, 3, 9]\n",
    "calculer_somme(ma_liste)"
   ]
  },
  {
   "cell_type": "code",
   "execution_count": null,
   "metadata": {},
   "outputs": [],
   "source": [
    "ma_liste = [5, 4, 8, 5, 8, 10, 1, 3, 6, 6, 2, 3, 9]\n",
    "calculer_somme(ma_liste, demo = True)"
   ]
  },
  {
   "cell_type": "markdown",
   "metadata": {},
   "source": [
    "### Tri par sélection (min)"
   ]
  },
  {
   "cell_type": "markdown",
   "metadata": {},
   "source": [
    "> **Démo avec jeux de cartes**"
   ]
  },
  {
   "cell_type": "markdown",
   "metadata": {},
   "source": [
    "TO DO: Décrivez l'algorithme de tri par sélection en pseudo-code:  \n",
    "\n",
    "  \n",
    "  \n",
    "  \n",
    "--"
   ]
  },
  {
   "cell_type": "code",
   "execution_count": null,
   "metadata": {},
   "outputs": [],
   "source": [
    "# Implémentation du tri par sélection (utilisant fonction min())\n",
    "def tri_selection(L, demo = False):\n",
    "    pass"
   ]
  },
  {
   "cell_type": "code",
   "execution_count": null,
   "metadata": {},
   "outputs": [],
   "source": [
    "ma_liste = [5, 4, 8, 5, 8, 10, 1, 3, 6, 6, 2, 3, 9]\n",
    "tri_selection(ma_liste, True)"
   ]
  },
  {
   "cell_type": "code",
   "execution_count": null,
   "metadata": {},
   "outputs": [],
   "source": [
    "ma_liste"
   ]
  },
  {
   "cell_type": "code",
   "execution_count": null,
   "metadata": {},
   "outputs": [],
   "source": []
  },
  {
   "cell_type": "code",
   "execution_count": null,
   "metadata": {},
   "outputs": [],
   "source": [
    "# Implémentation du tri par sélection (avec ré-implémentation d'une fonction min personnelle)\n",
    "def tri_selection_complet(L, demo = False):\n",
    "    pass"
   ]
  },
  {
   "cell_type": "code",
   "execution_count": null,
   "metadata": {},
   "outputs": [],
   "source": [
    "ma_liste = [5, 4, 8, 5, 8, 10, 1, 3, 6, 6, 2, 3, 9]\n",
    "tri_selection_complet(ma_liste, True)"
   ]
  },
  {
   "cell_type": "markdown",
   "metadata": {},
   "source": [
    "---"
   ]
  },
  {
   "cell_type": "markdown",
   "metadata": {},
   "source": [
    "### Tri à bulles (ou tri par propagation)"
   ]
  },
  {
   "cell_type": "markdown",
   "metadata": {},
   "source": [
    "> **Démo avec jeux de cartes**"
   ]
  },
  {
   "cell_type": "markdown",
   "metadata": {},
   "source": [
    "Autre illustration (Source: [wikipedia](https://en.wikipedia.org/wiki/Bubble_sort))  "
   ]
  },
  {
   "cell_type": "markdown",
   "metadata": {},
   "source": [
    "![Tri à Bulles](./img/bubble-sort.gif)  \n"
   ]
  },
  {
   "cell_type": "markdown",
   "metadata": {},
   "source": [
    "TO DO: Décrivez l'algorithme du tri à bulles en pseudo-code:  \n",
    "\n",
    "- On compare les cartes en fonction de la liste par paires (deux à deux) pour mettre le plus faible à gauche.\n",
    "- Après avoir fini la première serie, la carte la plus forte reste à droite.\n",
    "- On recommence la même première serie mais on à deja la carte la plus forte, donc on veut la seconde carte la plus forte\n",
    "- On continue ainsi jusqu'à ce qu'on arrive à la plus faible\n",
    "- - MES CARTES sont ordonées\n",
    "  \n",
    "  \n",
    "--"
   ]
  },
  {
   "cell_type": "code",
   "execution_count": null,
   "metadata": {},
   "outputs": [],
   "source": [
    "# Préalable: démo ```While```\n",
    "\n",
    "compteur = len (ma_liste)\n",
    "while compteur > 0:\n",
    "    print(compteur)\n",
    "    compteur -= 1"
   ]
  },
  {
   "cell_type": "code",
   "execution_count": null,
   "metadata": {},
   "outputs": [],
   "source": [
    "# While / Jordan\n",
    "#\n",
    "# Implémentation du tri séléction (utilisant fonction min () )\n",
    "def tri_selection(L):\n",
    "    liste_triee = []\n",
    "    while len(L) > 0:\n",
    "        carte_min = min(L)\n",
    "        liste_triee.append(carte_min)\n",
    "        L.remove(carte_min)\n",
    "    return liste_triee"
   ]
  },
  {
   "cell_type": "code",
   "execution_count": null,
   "metadata": {},
   "outputs": [],
   "source": []
  },
  {
   "cell_type": "code",
   "execution_count": null,
   "metadata": {},
   "outputs": [],
   "source": [
    "# Implémentation\n",
    "def tri_bulles(L, demo = False):\n",
    "    pass"
   ]
  },
  {
   "cell_type": "code",
   "execution_count": null,
   "metadata": {},
   "outputs": [],
   "source": [
    "ma_liste = [5, 4, 8, 5, 8, 10, 1, 3, 6, 6, 2, 3, 9]\n",
    "tri_bulles(ma_liste, demo = True)"
   ]
  },
  {
   "cell_type": "code",
   "execution_count": null,
   "metadata": {},
   "outputs": [],
   "source": [
    "def tri_bulles(L, demo = False):\n",
    "    n = len(L)\n",
    "    compteur = 0\n",
    "    if demo:\n",
    "        print(\"{:3d}: {}\".format(compteur, L))\n",
    "    \n",
    "    # Traverser tous les éléments du tableau\n",
    "    nswap = 0\n",
    "    for i in range(n, 1, -1):\n",
    "        if demo:\n",
    "            print(\"Passe sur\", i, \"cartes ( de 0 à\", i - 1, \")\")\n",
    "        for j in range(0, i-1):\n",
    "            compteur += 1\n",
    "            # échanger si l'élément trouvé est plus grand que le suivant\n",
    "            if L[j] > L[j+1] :\n",
    "                nswap += 1\n",
    "                L[j], L[j+1] = L[j+1], L[j]\n",
    "            if demo:\n",
    "                print(f\"{compteur:3d}: {L[:i]} / {L[i:]}\")\n",
    "    if demo:\n",
    "        print(\"nswap =\", nswap)\n",
    "    return L"
   ]
  },
  {
   "cell_type": "code",
   "execution_count": null,
   "metadata": {},
   "outputs": [],
   "source": [
    "ma_liste = [5, 4, 8, 5, 8, 10, 1, 3, 6, 6, 2, 3, 9]\n",
    "tri_bulles(ma_liste, True)"
   ]
  },
  {
   "cell_type": "code",
   "execution_count": null,
   "metadata": {},
   "outputs": [],
   "source": [
    "tri_bulles(ma_liste)"
   ]
  },
  {
   "cell_type": "code",
   "execution_count": null,
   "metadata": {},
   "outputs": [],
   "source": [
    "pire_cas = [i for i in range(10, 0, -1)]\n",
    "print(len(pire_cas), pire_cas)"
   ]
  },
  {
   "cell_type": "code",
   "execution_count": null,
   "metadata": {},
   "outputs": [],
   "source": [
    "tri_bulles(pire_cas, True)"
   ]
  },
  {
   "cell_type": "code",
   "execution_count": null,
   "metadata": {},
   "outputs": [],
   "source": [
    "# Le nb d'itérations dans ce cas est: n * (n + 1) / 2)\n",
    "9 + 8 + 7 + 6 + 5 + 4 + 3 + 2 + 1"
   ]
  },
  {
   "cell_type": "code",
   "execution_count": null,
   "metadata": {},
   "outputs": [],
   "source": [
    "# Ce qui est égal à n * (n + 1) / 2  avec n = 9\n",
    "9 * 10 // 2"
   ]
  },
  {
   "cell_type": "markdown",
   "metadata": {},
   "source": [
    "---\n",
    "## Application à une liste de chaînes de caractère"
   ]
  },
  {
   "cell_type": "markdown",
   "metadata": {},
   "source": [
    "**Rappel: Comparaison de chaînes de caractères**"
   ]
  },
  {
   "cell_type": "code",
   "execution_count": null,
   "metadata": {},
   "outputs": [],
   "source": [
    "\"Abc\" > \"cdf\""
   ]
  },
  {
   "cell_type": "code",
   "execution_count": null,
   "metadata": {},
   "outputs": [],
   "source": [
    "\"A\" > \"a\""
   ]
  },
  {
   "cell_type": "code",
   "execution_count": null,
   "metadata": {},
   "outputs": [],
   "source": [
    "\"Vincent\" > \"Christophe\""
   ]
  },
  {
   "cell_type": "code",
   "execution_count": null,
   "metadata": {},
   "outputs": [],
   "source": [
    "\"Vincent\" > \"christophe\""
   ]
  },
  {
   "cell_type": "code",
   "execution_count": null,
   "metadata": {},
   "outputs": [],
   "source": [
    "promo = ['Théo', 'Philippe', 'Lamia', 'Marvin', \n",
    "         'Maëlle', 'Yoann', 'Jonathan', 'Corentin', \n",
    "         'Joris', 'Matthias', 'Alicia', 'Izak', \n",
    "         'Mayel', 'Corentin', 'Jordan', 'Abire' \n",
    "]"
   ]
  },
  {
   "cell_type": "code",
   "execution_count": null,
   "metadata": {},
   "outputs": [],
   "source": [
    "sorted(promo)"
   ]
  },
  {
   "cell_type": "code",
   "execution_count": null,
   "metadata": {},
   "outputs": [],
   "source": [
    "tri_bulles(promo, True)"
   ]
  },
  {
   "cell_type": "markdown",
   "metadata": {},
   "source": [
    "---\n",
    "## Pour aller plus loin\n",
    "\n",
    "Voir \n",
    "- [Complexité algorithmique en temps](https://fr.wikipedia.org/wiki/Complexit%C3%A9_en_temps)\n",
    "- [Algorithme de tri sur Wikipedia](https://fr.wikipedia.org/wiki/Algorithme_de_tri)"
   ]
  },
  {
   "cell_type": "markdown",
   "metadata": {},
   "source": [
    "### Tri à bulles optimisé\n",
    "TO DO: Imaginer ou rechercher sur internet une possibilité d'améliorer le tri à bulles\n",
    "- on mémorise la position de la première permutation de la boucle"
   ]
  },
  {
   "cell_type": "code",
   "execution_count": 9,
   "metadata": {},
   "outputs": [],
   "source": [
    "def tri_bulles_optimise(L, demo = False):\n",
    "    n = len (L)\n",
    "    compteur = 0\n",
    "    if demo:\n",
    "        print(\"{:3d}: {}\".format(compteur, L))\n",
    "    \n",
    "    for i in range(n, 1, -1):\n",
    "        liste_triee = True\n",
    "        for j in range(0, i-1):\n",
    "            compteur += 1\n",
    "            if L[j+1] > L[j]:\n",
    "                L[j],L[j+1] = L[j+1], L[j]\n",
    "                liste_triee = False\n",
    "            if demo:\n",
    "                print(f\"{compteur:3d}: {L}\")\n",
    "        if liste_triee:\n",
    "            break"
   ]
  },
  {
   "cell_type": "code",
   "execution_count": 10,
   "metadata": {},
   "outputs": [
    {
     "name": "stdout",
     "output_type": "stream",
     "text": [
      "  0: [5, 4, 8, 5, 8, 10, 1, 3, 6, 6, 2, 3, 9]\n",
      "  1: [5, 4, 8, 5, 8, 10, 1, 3, 6, 6, 2, 3, 9]\n",
      "  2: [5, 8, 4, 5, 8, 10, 1, 3, 6, 6, 2, 3, 9]\n",
      "  3: [5, 8, 5, 4, 8, 10, 1, 3, 6, 6, 2, 3, 9]\n",
      "  4: [5, 8, 5, 8, 4, 10, 1, 3, 6, 6, 2, 3, 9]\n",
      "  5: [5, 8, 5, 8, 10, 4, 1, 3, 6, 6, 2, 3, 9]\n",
      "  6: [5, 8, 5, 8, 10, 4, 1, 3, 6, 6, 2, 3, 9]\n",
      "  7: [5, 8, 5, 8, 10, 4, 3, 1, 6, 6, 2, 3, 9]\n",
      "  8: [5, 8, 5, 8, 10, 4, 3, 6, 1, 6, 2, 3, 9]\n",
      "  9: [5, 8, 5, 8, 10, 4, 3, 6, 6, 1, 2, 3, 9]\n",
      " 10: [5, 8, 5, 8, 10, 4, 3, 6, 6, 2, 1, 3, 9]\n",
      " 11: [5, 8, 5, 8, 10, 4, 3, 6, 6, 2, 3, 1, 9]\n",
      " 12: [5, 8, 5, 8, 10, 4, 3, 6, 6, 2, 3, 9, 1]\n",
      " 13: [8, 5, 5, 8, 10, 4, 3, 6, 6, 2, 3, 9, 1]\n",
      " 14: [8, 5, 5, 8, 10, 4, 3, 6, 6, 2, 3, 9, 1]\n",
      " 15: [8, 5, 8, 5, 10, 4, 3, 6, 6, 2, 3, 9, 1]\n",
      " 16: [8, 5, 8, 10, 5, 4, 3, 6, 6, 2, 3, 9, 1]\n",
      " 17: [8, 5, 8, 10, 5, 4, 3, 6, 6, 2, 3, 9, 1]\n",
      " 18: [8, 5, 8, 10, 5, 4, 3, 6, 6, 2, 3, 9, 1]\n",
      " 19: [8, 5, 8, 10, 5, 4, 6, 3, 6, 2, 3, 9, 1]\n",
      " 20: [8, 5, 8, 10, 5, 4, 6, 6, 3, 2, 3, 9, 1]\n",
      " 21: [8, 5, 8, 10, 5, 4, 6, 6, 3, 2, 3, 9, 1]\n",
      " 22: [8, 5, 8, 10, 5, 4, 6, 6, 3, 3, 2, 9, 1]\n",
      " 23: [8, 5, 8, 10, 5, 4, 6, 6, 3, 3, 9, 2, 1]\n",
      " 24: [8, 5, 8, 10, 5, 4, 6, 6, 3, 3, 9, 2, 1]\n",
      " 25: [8, 8, 5, 10, 5, 4, 6, 6, 3, 3, 9, 2, 1]\n",
      " 26: [8, 8, 10, 5, 5, 4, 6, 6, 3, 3, 9, 2, 1]\n",
      " 27: [8, 8, 10, 5, 5, 4, 6, 6, 3, 3, 9, 2, 1]\n",
      " 28: [8, 8, 10, 5, 5, 4, 6, 6, 3, 3, 9, 2, 1]\n",
      " 29: [8, 8, 10, 5, 5, 6, 4, 6, 3, 3, 9, 2, 1]\n",
      " 30: [8, 8, 10, 5, 5, 6, 6, 4, 3, 3, 9, 2, 1]\n",
      " 31: [8, 8, 10, 5, 5, 6, 6, 4, 3, 3, 9, 2, 1]\n",
      " 32: [8, 8, 10, 5, 5, 6, 6, 4, 3, 3, 9, 2, 1]\n",
      " 33: [8, 8, 10, 5, 5, 6, 6, 4, 3, 9, 3, 2, 1]\n",
      " 34: [8, 8, 10, 5, 5, 6, 6, 4, 3, 9, 3, 2, 1]\n",
      " 35: [8, 10, 8, 5, 5, 6, 6, 4, 3, 9, 3, 2, 1]\n",
      " 36: [8, 10, 8, 5, 5, 6, 6, 4, 3, 9, 3, 2, 1]\n",
      " 37: [8, 10, 8, 5, 5, 6, 6, 4, 3, 9, 3, 2, 1]\n",
      " 38: [8, 10, 8, 5, 6, 5, 6, 4, 3, 9, 3, 2, 1]\n",
      " 39: [8, 10, 8, 5, 6, 6, 5, 4, 3, 9, 3, 2, 1]\n",
      " 40: [8, 10, 8, 5, 6, 6, 5, 4, 3, 9, 3, 2, 1]\n",
      " 41: [8, 10, 8, 5, 6, 6, 5, 4, 3, 9, 3, 2, 1]\n",
      " 42: [8, 10, 8, 5, 6, 6, 5, 4, 9, 3, 3, 2, 1]\n",
      " 43: [10, 8, 8, 5, 6, 6, 5, 4, 9, 3, 3, 2, 1]\n",
      " 44: [10, 8, 8, 5, 6, 6, 5, 4, 9, 3, 3, 2, 1]\n",
      " 45: [10, 8, 8, 5, 6, 6, 5, 4, 9, 3, 3, 2, 1]\n",
      " 46: [10, 8, 8, 6, 5, 6, 5, 4, 9, 3, 3, 2, 1]\n",
      " 47: [10, 8, 8, 6, 6, 5, 5, 4, 9, 3, 3, 2, 1]\n",
      " 48: [10, 8, 8, 6, 6, 5, 5, 4, 9, 3, 3, 2, 1]\n",
      " 49: [10, 8, 8, 6, 6, 5, 5, 4, 9, 3, 3, 2, 1]\n",
      " 50: [10, 8, 8, 6, 6, 5, 5, 9, 4, 3, 3, 2, 1]\n",
      " 51: [10, 8, 8, 6, 6, 5, 5, 9, 4, 3, 3, 2, 1]\n",
      " 52: [10, 8, 8, 6, 6, 5, 5, 9, 4, 3, 3, 2, 1]\n",
      " 53: [10, 8, 8, 6, 6, 5, 5, 9, 4, 3, 3, 2, 1]\n",
      " 54: [10, 8, 8, 6, 6, 5, 5, 9, 4, 3, 3, 2, 1]\n",
      " 55: [10, 8, 8, 6, 6, 5, 5, 9, 4, 3, 3, 2, 1]\n",
      " 56: [10, 8, 8, 6, 6, 5, 5, 9, 4, 3, 3, 2, 1]\n",
      " 57: [10, 8, 8, 6, 6, 5, 9, 5, 4, 3, 3, 2, 1]\n",
      " 58: [10, 8, 8, 6, 6, 5, 9, 5, 4, 3, 3, 2, 1]\n",
      " 59: [10, 8, 8, 6, 6, 5, 9, 5, 4, 3, 3, 2, 1]\n",
      " 60: [10, 8, 8, 6, 6, 5, 9, 5, 4, 3, 3, 2, 1]\n",
      " 61: [10, 8, 8, 6, 6, 5, 9, 5, 4, 3, 3, 2, 1]\n",
      " 62: [10, 8, 8, 6, 6, 5, 9, 5, 4, 3, 3, 2, 1]\n",
      " 63: [10, 8, 8, 6, 6, 9, 5, 5, 4, 3, 3, 2, 1]\n",
      " 64: [10, 8, 8, 6, 6, 9, 5, 5, 4, 3, 3, 2, 1]\n",
      " 65: [10, 8, 8, 6, 6, 9, 5, 5, 4, 3, 3, 2, 1]\n",
      " 66: [10, 8, 8, 6, 6, 9, 5, 5, 4, 3, 3, 2, 1]\n",
      " 67: [10, 8, 8, 6, 6, 9, 5, 5, 4, 3, 3, 2, 1]\n",
      " 68: [10, 8, 8, 6, 9, 6, 5, 5, 4, 3, 3, 2, 1]\n",
      " 69: [10, 8, 8, 6, 9, 6, 5, 5, 4, 3, 3, 2, 1]\n",
      " 70: [10, 8, 8, 6, 9, 6, 5, 5, 4, 3, 3, 2, 1]\n",
      " 71: [10, 8, 8, 6, 9, 6, 5, 5, 4, 3, 3, 2, 1]\n",
      " 72: [10, 8, 8, 9, 6, 6, 5, 5, 4, 3, 3, 2, 1]\n",
      " 73: [10, 8, 8, 9, 6, 6, 5, 5, 4, 3, 3, 2, 1]\n",
      " 74: [10, 8, 8, 9, 6, 6, 5, 5, 4, 3, 3, 2, 1]\n",
      " 75: [10, 8, 9, 8, 6, 6, 5, 5, 4, 3, 3, 2, 1]\n",
      " 76: [10, 8, 9, 8, 6, 6, 5, 5, 4, 3, 3, 2, 1]\n",
      " 77: [10, 9, 8, 8, 6, 6, 5, 5, 4, 3, 3, 2, 1]\n",
      " 78: [10, 9, 8, 8, 6, 6, 5, 5, 4, 3, 3, 2, 1]\n"
     ]
    }
   ],
   "source": [
    "ma_liste = [5, 4, 8, 5, 8, 10, 1, 3, 6, 6, 2, 3, 9]\n",
    "tri_bulles_optimise(ma_liste, True)"
   ]
  },
  {
   "cell_type": "code",
   "execution_count": null,
   "metadata": {},
   "outputs": [],
   "source": []
  },
  {
   "cell_type": "markdown",
   "metadata": {},
   "source": [
    "### Tri fusion (merge sort)"
   ]
  },
  {
   "cell_type": "code",
   "execution_count": null,
   "metadata": {},
   "outputs": [],
   "source": [
    "def tri_fusion(L):\n",
    "    pass"
   ]
  },
  {
   "cell_type": "code",
   "execution_count": null,
   "metadata": {},
   "outputs": [],
   "source": [
    "ma_liste = [5, 4, 8, 5, 8, 10, 1, 3, 6, 6, 2, 3, 9]\n",
    "tri_fusion(ma_liste)"
   ]
  },
  {
   "cell_type": "code",
   "execution_count": null,
   "metadata": {},
   "outputs": [],
   "source": []
  },
  {
   "cell_type": "code",
   "execution_count": null,
   "metadata": {},
   "outputs": [],
   "source": []
  }
 ],
 "metadata": {
  "kernelspec": {
   "display_name": "Python 3",
   "language": "python",
   "name": "python3"
  },
  "language_info": {
   "codemirror_mode": {
    "name": "ipython",
    "version": 3
   },
   "file_extension": ".py",
   "mimetype": "text/x-python",
   "name": "python",
   "nbconvert_exporter": "python",
   "pygments_lexer": "ipython3",
   "version": "3.8.6"
  }
 },
 "nbformat": 4,
 "nbformat_minor": 4
}
